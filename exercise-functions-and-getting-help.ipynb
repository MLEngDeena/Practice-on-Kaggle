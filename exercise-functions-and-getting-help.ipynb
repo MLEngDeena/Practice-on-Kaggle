{
 "cells": [
  {
   "cell_type": "markdown",
   "id": "de617156",
   "metadata": {
    "papermill": {
     "duration": 0.006445,
     "end_time": "2022-09-26T17:43:54.154810",
     "exception": false,
     "start_time": "2022-09-26T17:43:54.148365",
     "status": "completed"
    },
    "tags": []
   },
   "source": [
    "**This notebook is an exercise in the [Python](https://www.kaggle.com/learn/python) course.  You can reference the tutorial at [this link](https://www.kaggle.com/colinmorris/functions-and-getting-help).**\n",
    "\n",
    "---\n"
   ]
  },
  {
   "cell_type": "markdown",
   "id": "03fdfaa3",
   "metadata": {
    "papermill": {
     "duration": 0.004879,
     "end_time": "2022-09-26T17:43:54.165082",
     "exception": false,
     "start_time": "2022-09-26T17:43:54.160203",
     "status": "completed"
    },
    "tags": []
   },
   "source": [
    "Functions are powerful. Try writing some yourself.\n",
    "\n",
    "As before, don't forget to run the setup code below before jumping into question 1."
   ]
  },
  {
   "cell_type": "code",
   "execution_count": 1,
   "id": "b24b4a2d",
   "metadata": {
    "_kg_hide-input": true,
    "_kg_hide-output": true,
    "execution": {
     "iopub.execute_input": "2022-09-26T17:43:54.178483Z",
     "iopub.status.busy": "2022-09-26T17:43:54.177579Z",
     "iopub.status.idle": "2022-09-26T17:43:54.238460Z",
     "shell.execute_reply": "2022-09-26T17:43:54.237296Z"
    },
    "papermill": {
     "duration": 0.071698,
     "end_time": "2022-09-26T17:43:54.242010",
     "exception": false,
     "start_time": "2022-09-26T17:43:54.170312",
     "status": "completed"
    },
    "tags": []
   },
   "outputs": [
    {
     "name": "stdout",
     "output_type": "stream",
     "text": [
      "Setup complete.\n"
     ]
    }
   ],
   "source": [
    "# SETUP. You don't need to worry for now about what this code does or how it works.\n",
    "from learntools.core import binder; binder.bind(globals())\n",
    "from learntools.python.ex2 import *\n",
    "print('Setup complete.')"
   ]
  },
  {
   "cell_type": "markdown",
   "id": "57c2612d",
   "metadata": {
    "papermill": {
     "duration": 0.005478,
     "end_time": "2022-09-26T17:43:54.254481",
     "exception": false,
     "start_time": "2022-09-26T17:43:54.249003",
     "status": "completed"
    },
    "tags": []
   },
   "source": [
    "# 1.\n",
    "\n",
    "Complete the body of the following function according to its docstring.\n",
    "\n",
    "HINT: Python has a built-in function `round`."
   ]
  },
  {
   "cell_type": "code",
   "execution_count": 2,
   "id": "49ad0779",
   "metadata": {
    "execution": {
     "iopub.execute_input": "2022-09-26T17:43:54.267348Z",
     "iopub.status.busy": "2022-09-26T17:43:54.266887Z",
     "iopub.status.idle": "2022-09-26T17:43:54.279667Z",
     "shell.execute_reply": "2022-09-26T17:43:54.278483Z"
    },
    "papermill": {
     "duration": 0.021528,
     "end_time": "2022-09-26T17:43:54.281989",
     "exception": false,
     "start_time": "2022-09-26T17:43:54.260461",
     "status": "completed"
    },
    "tags": []
   },
   "outputs": [
    {
     "data": {
      "application/javascript": [
       "parent.postMessage({\"jupyterEvent\": \"custom.exercise_interaction\", \"data\": {\"outcomeType\": 1, \"valueTowardsCompletion\": 0.16666666666666666, \"interactionType\": 1, \"questionType\": 2, \"questionId\": \"1_RoundFunctionProblem\", \"learnToolsVersion\": \"0.3.4\", \"failureMessage\": \"\", \"exceptionClass\": \"\", \"trace\": \"\"}}, \"*\")"
      ],
      "text/plain": [
       "<IPython.core.display.Javascript object>"
      ]
     },
     "metadata": {},
     "output_type": "display_data"
    },
    {
     "data": {
      "text/markdown": [
       "<span style=\"color:#33cc33\">Correct</span>"
      ],
      "text/plain": [
       "Correct"
      ]
     },
     "metadata": {},
     "output_type": "display_data"
    }
   ],
   "source": [
    "def round_to_two_places(num):\n",
    "    \"\"\"Return the given number rounded to two decimal places. \n",
    "    \n",
    "    >>> round_to_two_places(3.14159)\n",
    "    3.14\n",
    "    \"\"\"\n",
    "    # Replace this body with your own code.\n",
    "    # (\"pass\" is a keyword that does literally nothing. We used it as a placeholder\n",
    "    # because after we begin a code block, Python requires at least one line of code)\n",
    "    num = round(num,2)\n",
    "    return num\n",
    "    pass\n",
    "\n",
    "# Check your answer\n",
    "q1.check()"
   ]
  },
  {
   "cell_type": "code",
   "execution_count": 3,
   "id": "adf449a0",
   "metadata": {
    "execution": {
     "iopub.execute_input": "2022-09-26T17:43:54.295209Z",
     "iopub.status.busy": "2022-09-26T17:43:54.294448Z",
     "iopub.status.idle": "2022-09-26T17:43:54.308668Z",
     "shell.execute_reply": "2022-09-26T17:43:54.307601Z"
    },
    "papermill": {
     "duration": 0.023302,
     "end_time": "2022-09-26T17:43:54.310891",
     "exception": false,
     "start_time": "2022-09-26T17:43:54.287589",
     "status": "completed"
    },
    "tags": []
   },
   "outputs": [
    {
     "data": {
      "application/javascript": [
       "parent.postMessage({\"jupyterEvent\": \"custom.exercise_interaction\", \"data\": {\"interactionType\": 2, \"questionType\": 2, \"questionId\": \"1_RoundFunctionProblem\", \"learnToolsVersion\": \"0.3.4\", \"valueTowardsCompletion\": 0.0, \"failureMessage\": \"\", \"exceptionClass\": \"\", \"trace\": \"\", \"outcomeType\": 4}}, \"*\")"
      ],
      "text/plain": [
       "<IPython.core.display.Javascript object>"
      ]
     },
     "metadata": {},
     "output_type": "display_data"
    },
    {
     "data": {
      "text/markdown": [
       "<span style=\"color:#3366cc\">Hint:</span> Run `help(round)` in the console (or in a code cell) to learn more about the round function. You'll need to use the function's optional second argument."
      ],
      "text/plain": [
       "Hint: Run `help(round)` in the console (or in a code cell) to learn more about the round function. You'll need to use the function's optional second argument."
      ]
     },
     "metadata": {},
     "output_type": "display_data"
    },
    {
     "data": {
      "application/javascript": [
       "parent.postMessage({\"jupyterEvent\": \"custom.exercise_interaction\", \"data\": {\"interactionType\": 3, \"questionType\": 2, \"questionId\": \"1_RoundFunctionProblem\", \"learnToolsVersion\": \"0.3.4\", \"valueTowardsCompletion\": 0.0, \"failureMessage\": \"\", \"exceptionClass\": \"\", \"trace\": \"\", \"outcomeType\": 4}}, \"*\")"
      ],
      "text/plain": [
       "<IPython.core.display.Javascript object>"
      ]
     },
     "metadata": {},
     "output_type": "display_data"
    },
    {
     "data": {
      "text/markdown": [
       "<span style=\"color:#33cc99\">Solution:</span> \n",
       "```python\n",
       "return round(num, 2)\n",
       "```"
      ],
      "text/plain": [
       "Solution: \n",
       "```python\n",
       "return round(num, 2)\n",
       "```"
      ]
     },
     "metadata": {},
     "output_type": "display_data"
    }
   ],
   "source": [
    "# Uncomment the following for a hint\n",
    "q1.hint()\n",
    "# Or uncomment the following to peek at the solution\n",
    "q1.solution()"
   ]
  },
  {
   "cell_type": "markdown",
   "id": "7b9e8acb",
   "metadata": {
    "papermill": {
     "duration": 0.005794,
     "end_time": "2022-09-26T17:43:54.322590",
     "exception": false,
     "start_time": "2022-09-26T17:43:54.316796",
     "status": "completed"
    },
    "tags": []
   },
   "source": [
    "# 2.\n",
    "The help for `round` says that `ndigits` (the second argument) may be negative.\n",
    "What do you think will happen when it is? Try some examples in the following cell."
   ]
  },
  {
   "cell_type": "code",
   "execution_count": 4,
   "id": "e55b9cf4",
   "metadata": {
    "execution": {
     "iopub.execute_input": "2022-09-26T17:43:54.336289Z",
     "iopub.status.busy": "2022-09-26T17:43:54.335867Z",
     "iopub.status.idle": "2022-09-26T17:43:54.341669Z",
     "shell.execute_reply": "2022-09-26T17:43:54.340506Z"
    },
    "papermill": {
     "duration": 0.017159,
     "end_time": "2022-09-26T17:43:54.345711",
     "exception": false,
     "start_time": "2022-09-26T17:43:54.328552",
     "status": "completed"
    },
    "tags": []
   },
   "outputs": [
    {
     "name": "stdout",
     "output_type": "stream",
     "text": [
      "1015.43\n",
      "1000.0\n"
     ]
    }
   ],
   "source": [
    "# Put your test code here\n",
    "num = 1015.4324\n",
    "print(round(num,2))\n",
    "print(round(num,-2))"
   ]
  },
  {
   "cell_type": "markdown",
   "id": "ffefe457",
   "metadata": {
    "papermill": {
     "duration": 0.005725,
     "end_time": "2022-09-26T17:43:54.358770",
     "exception": false,
     "start_time": "2022-09-26T17:43:54.353045",
     "status": "completed"
    },
    "tags": []
   },
   "source": [
    "Can you think of a case where this would be useful?  Once you're ready, run the code cell below to see the answer and to receive credit for completing the problem."
   ]
  },
  {
   "cell_type": "code",
   "execution_count": 5,
   "id": "a2c67cba",
   "metadata": {
    "execution": {
     "iopub.execute_input": "2022-09-26T17:43:54.372887Z",
     "iopub.status.busy": "2022-09-26T17:43:54.372504Z",
     "iopub.status.idle": "2022-09-26T17:43:54.379662Z",
     "shell.execute_reply": "2022-09-26T17:43:54.378867Z"
    },
    "papermill": {
     "duration": 0.01686,
     "end_time": "2022-09-26T17:43:54.381821",
     "exception": false,
     "start_time": "2022-09-26T17:43:54.364961",
     "status": "completed"
    },
    "tags": []
   },
   "outputs": [
    {
     "data": {
      "application/javascript": [
       "parent.postMessage({\"jupyterEvent\": \"custom.exercise_interaction\", \"data\": {\"interactionType\": 3, \"questionType\": 4, \"questionId\": \"2_RoundNdigitsProblem\", \"learnToolsVersion\": \"0.3.4\", \"valueTowardsCompletion\": 0.0, \"failureMessage\": \"\", \"exceptionClass\": \"\", \"trace\": \"\", \"outcomeType\": 4}}, \"*\")"
      ],
      "text/plain": [
       "<IPython.core.display.Javascript object>"
      ]
     },
     "metadata": {},
     "output_type": "display_data"
    },
    {
     "data": {
      "text/markdown": [
       "<span style=\"color:#33cc99\">Solution:</span> As you've seen, `ndigits=-1` rounds to the nearest 10, `ndigits=-2` rounds to the nearest 100 and so on. Where might this be useful? Suppose we're dealing with large numbers:\n",
       "\n",
       "> The area of Finland is 338,424 km²  \n",
       "> The area of Greenland is 2,166,086 km²\n",
       "\n",
       "We probably don't care whether it's really 338,424, or 338,425, or 338,177. All those digits of accuracy are just distracting. We can chop them off by calling `round()` with `ndigits=-3`:\n",
       "\n",
       "> The area of Finland is 338,000 km²  \n",
       "> The area of Greenland is 2,166,000 km²\n",
       "\n",
       "(We'll talk about how we would get the commas later when we talk about string formatting :))\n"
      ],
      "text/plain": [
       "Solution: As you've seen, `ndigits=-1` rounds to the nearest 10, `ndigits=-2` rounds to the nearest 100 and so on. Where might this be useful? Suppose we're dealing with large numbers:\n",
       "\n",
       "> The area of Finland is 338,424 km²  \n",
       "> The area of Greenland is 2,166,086 km²\n",
       "\n",
       "We probably don't care whether it's really 338,424, or 338,425, or 338,177. All those digits of accuracy are just distracting. We can chop them off by calling `round()` with `ndigits=-3`:\n",
       "\n",
       "> The area of Finland is 338,000 km²  \n",
       "> The area of Greenland is 2,166,000 km²\n",
       "\n",
       "(We'll talk about how we would get the commas later when we talk about string formatting :))"
      ]
     },
     "metadata": {},
     "output_type": "display_data"
    }
   ],
   "source": [
    "# Check your answer (Run this code cell to receive credit!)\n",
    "q2.solution()"
   ]
  },
  {
   "cell_type": "markdown",
   "id": "6cc4a808",
   "metadata": {
    "papermill": {
     "duration": 0.005808,
     "end_time": "2022-09-26T17:43:54.393738",
     "exception": false,
     "start_time": "2022-09-26T17:43:54.387930",
     "status": "completed"
    },
    "tags": []
   },
   "source": [
    "# 3.\n",
    "\n",
    "In the previous exercise, the candy-sharing friends Alice, Bob and Carol tried to split candies evenly. For the sake of their friendship, any candies left over would be smashed. For example, if they collectively bring home 91 candies, they'll take 30 each and smash 1.\n",
    "\n",
    "Below is a simple function that will calculate the number of candies to smash for *any* number of total candies.\n",
    "\n",
    "Modify it so that it optionally takes a second argument representing the number of friends the candies are being split between. If no second argument is provided, it should assume 3 friends, as before.\n",
    "\n",
    "Update the docstring to reflect this new behaviour."
   ]
  },
  {
   "cell_type": "code",
   "execution_count": 6,
   "id": "63e56028",
   "metadata": {
    "execution": {
     "iopub.execute_input": "2022-09-26T17:43:54.409668Z",
     "iopub.status.busy": "2022-09-26T17:43:54.408520Z",
     "iopub.status.idle": "2022-09-26T17:43:54.417347Z",
     "shell.execute_reply": "2022-09-26T17:43:54.416579Z"
    },
    "papermill": {
     "duration": 0.019391,
     "end_time": "2022-09-26T17:43:54.419428",
     "exception": false,
     "start_time": "2022-09-26T17:43:54.400037",
     "status": "completed"
    },
    "tags": []
   },
   "outputs": [
    {
     "data": {
      "application/javascript": [
       "parent.postMessage({\"jupyterEvent\": \"custom.exercise_interaction\", \"data\": {\"outcomeType\": 1, \"valueTowardsCompletion\": 0.16666666666666666, \"interactionType\": 1, \"questionType\": 2, \"questionId\": \"3_CandySmashingFunctionProblem\", \"learnToolsVersion\": \"0.3.4\", \"failureMessage\": \"\", \"exceptionClass\": \"\", \"trace\": \"\"}}, \"*\")"
      ],
      "text/plain": [
       "<IPython.core.display.Javascript object>"
      ]
     },
     "metadata": {},
     "output_type": "display_data"
    },
    {
     "data": {
      "text/markdown": [
       "<span style=\"color:#33cc33\">Correct</span>"
      ],
      "text/plain": [
       "Correct"
      ]
     },
     "metadata": {},
     "output_type": "display_data"
    }
   ],
   "source": [
    "def to_smash(total_candies, friends = 3):\n",
    "    \"\"\"Return the number of leftover candies that must be smashed after distributing\n",
    "    the given number of candies evenly between 3 friends.\n",
    "    \n",
    "    >>> to_smash(91)\n",
    "    1\n",
    "    \"\"\"\n",
    "    return total_candies % friends\n",
    "\n",
    "# Check your answer\n",
    "q3.check()"
   ]
  },
  {
   "cell_type": "code",
   "execution_count": 7,
   "id": "827ba8a8",
   "metadata": {
    "execution": {
     "iopub.execute_input": "2022-09-26T17:43:54.434761Z",
     "iopub.status.busy": "2022-09-26T17:43:54.433620Z",
     "iopub.status.idle": "2022-09-26T17:43:54.442094Z",
     "shell.execute_reply": "2022-09-26T17:43:54.440957Z"
    },
    "papermill": {
     "duration": 0.018667,
     "end_time": "2022-09-26T17:43:54.444622",
     "exception": false,
     "start_time": "2022-09-26T17:43:54.425955",
     "status": "completed"
    },
    "tags": []
   },
   "outputs": [
    {
     "data": {
      "application/javascript": [
       "parent.postMessage({\"jupyterEvent\": \"custom.exercise_interaction\", \"data\": {\"interactionType\": 2, \"questionType\": 2, \"questionId\": \"3_CandySmashingFunctionProblem\", \"learnToolsVersion\": \"0.3.4\", \"valueTowardsCompletion\": 0.0, \"failureMessage\": \"\", \"exceptionClass\": \"\", \"trace\": \"\", \"outcomeType\": 4}}, \"*\")"
      ],
      "text/plain": [
       "<IPython.core.display.Javascript object>"
      ]
     },
     "metadata": {},
     "output_type": "display_data"
    },
    {
     "data": {
      "text/markdown": [
       "<span style=\"color:#3366cc\">Hint:</span> Refer to the section of the last tutorial notebook where we talked about default arguments"
      ],
      "text/plain": [
       "Hint: Refer to the section of the last tutorial notebook where we talked about default arguments"
      ]
     },
     "metadata": {},
     "output_type": "display_data"
    }
   ],
   "source": [
    "q3.hint()"
   ]
  },
  {
   "cell_type": "code",
   "execution_count": 8,
   "id": "615e59f4",
   "metadata": {
    "execution": {
     "iopub.execute_input": "2022-09-26T17:43:54.459804Z",
     "iopub.status.busy": "2022-09-26T17:43:54.459399Z",
     "iopub.status.idle": "2022-09-26T17:43:54.466977Z",
     "shell.execute_reply": "2022-09-26T17:43:54.466184Z"
    },
    "papermill": {
     "duration": 0.017714,
     "end_time": "2022-09-26T17:43:54.469048",
     "exception": false,
     "start_time": "2022-09-26T17:43:54.451334",
     "status": "completed"
    },
    "tags": []
   },
   "outputs": [
    {
     "data": {
      "application/javascript": [
       "parent.postMessage({\"jupyterEvent\": \"custom.exercise_interaction\", \"data\": {\"interactionType\": 3, \"questionType\": 2, \"questionId\": \"3_CandySmashingFunctionProblem\", \"learnToolsVersion\": \"0.3.4\", \"valueTowardsCompletion\": 0.0, \"failureMessage\": \"\", \"exceptionClass\": \"\", \"trace\": \"\", \"outcomeType\": 4}}, \"*\")"
      ],
      "text/plain": [
       "<IPython.core.display.Javascript object>"
      ]
     },
     "metadata": {},
     "output_type": "display_data"
    },
    {
     "data": {
      "text/markdown": [
       "<span style=\"color:#33cc99\">Solution:</span> \n",
       "```python\n",
       "def to_smash(total_candies, n_friends=3):\n",
       "    return total_candies % n_friends\n",
       "```"
      ],
      "text/plain": [
       "Solution: \n",
       "```python\n",
       "def to_smash(total_candies, n_friends=3):\n",
       "    return total_candies % n_friends\n",
       "```"
      ]
     },
     "metadata": {},
     "output_type": "display_data"
    }
   ],
   "source": [
    "q3.solution()"
   ]
  },
  {
   "cell_type": "markdown",
   "id": "58af5128",
   "metadata": {
    "papermill": {
     "duration": 0.006931,
     "end_time": "2022-09-26T17:43:54.482813",
     "exception": false,
     "start_time": "2022-09-26T17:43:54.475882",
     "status": "completed"
    },
    "tags": []
   },
   "source": [
    "# 4. (Optional)\n",
    "\n",
    "It may not be fun, but reading and understanding error messages will be an important part of your Python career.\n",
    "\n",
    "Each code cell below contains some commented buggy code. For each cell...\n",
    "\n",
    "1. Read the code and predict what you think will happen when it's run.\n",
    "2. Then uncomment the code and run it to see what happens. (**Tip**: In the kernel editor, you can highlight several lines and press `ctrl`+`/` to toggle commenting.)\n",
    "3. Fix the code (so that it accomplishes its intended purpose without throwing an exception)\n",
    "\n",
    "<!-- TODO: should this be autochecked? Delta is probably pretty small. -->"
   ]
  },
  {
   "cell_type": "code",
   "execution_count": 9,
   "id": "da35a9fc",
   "metadata": {
    "execution": {
     "iopub.execute_input": "2022-09-26T17:43:54.498541Z",
     "iopub.status.busy": "2022-09-26T17:43:54.497744Z",
     "iopub.status.idle": "2022-09-26T17:43:54.502156Z",
     "shell.execute_reply": "2022-09-26T17:43:54.501409Z"
    },
    "papermill": {
     "duration": 0.014551,
     "end_time": "2022-09-26T17:43:54.504204",
     "exception": false,
     "start_time": "2022-09-26T17:43:54.489653",
     "status": "completed"
    },
    "tags": []
   },
   "outputs": [],
   "source": [
    " #ruound_to_two_places(9.9999)"
   ]
  },
  {
   "cell_type": "code",
   "execution_count": 10,
   "id": "f59fd2fb",
   "metadata": {
    "execution": {
     "iopub.execute_input": "2022-09-26T17:43:54.520554Z",
     "iopub.status.busy": "2022-09-26T17:43:54.519805Z",
     "iopub.status.idle": "2022-09-26T17:43:54.526366Z",
     "shell.execute_reply": "2022-09-26T17:43:54.525285Z"
    },
    "papermill": {
     "duration": 0.01782,
     "end_time": "2022-09-26T17:43:54.528990",
     "exception": false,
     "start_time": "2022-09-26T17:43:54.511170",
     "status": "completed"
    },
    "tags": []
   },
   "outputs": [
    {
     "data": {
      "text/plain": [
       "10.0"
      ]
     },
     "execution_count": 10,
     "metadata": {},
     "output_type": "execute_result"
    }
   ],
   "source": [
    "round(9.9999,2)"
   ]
  },
  {
   "cell_type": "code",
   "execution_count": 11,
   "id": "479d1540",
   "metadata": {
    "execution": {
     "iopub.execute_input": "2022-09-26T17:43:54.544979Z",
     "iopub.status.busy": "2022-09-26T17:43:54.544577Z",
     "iopub.status.idle": "2022-09-26T17:43:54.549403Z",
     "shell.execute_reply": "2022-09-26T17:43:54.548514Z"
    },
    "papermill": {
     "duration": 0.015127,
     "end_time": "2022-09-26T17:43:54.551437",
     "exception": false,
     "start_time": "2022-09-26T17:43:54.536310",
     "status": "completed"
    },
    "tags": []
   },
   "outputs": [],
   "source": [
    "x = -10\n",
    "y = 5\n",
    "# # Which of the two variables above has the smallest absolute value?\n",
    "#smallest_abs = min(abs(x, y))"
   ]
  },
  {
   "cell_type": "code",
   "execution_count": 12,
   "id": "49fb15ac",
   "metadata": {
    "execution": {
     "iopub.execute_input": "2022-09-26T17:43:54.567780Z",
     "iopub.status.busy": "2022-09-26T17:43:54.566932Z",
     "iopub.status.idle": "2022-09-26T17:43:54.572827Z",
     "shell.execute_reply": "2022-09-26T17:43:54.571775Z"
    },
    "papermill": {
     "duration": 0.017061,
     "end_time": "2022-09-26T17:43:54.575721",
     "exception": false,
     "start_time": "2022-09-26T17:43:54.558660",
     "status": "completed"
    },
    "tags": []
   },
   "outputs": [
    {
     "name": "stdout",
     "output_type": "stream",
     "text": [
      "5\n"
     ]
    }
   ],
   "source": [
    "smallest_abs = min(abs(x) , abs(y))\n",
    "print(smallest_abs)"
   ]
  },
  {
   "cell_type": "code",
   "execution_count": 13,
   "id": "e1c567c3",
   "metadata": {
    "execution": {
     "iopub.execute_input": "2022-09-26T17:43:54.591875Z",
     "iopub.status.busy": "2022-09-26T17:43:54.591485Z",
     "iopub.status.idle": "2022-09-26T17:43:54.597088Z",
     "shell.execute_reply": "2022-09-26T17:43:54.595983Z"
    },
    "papermill": {
     "duration": 0.016676,
     "end_time": "2022-09-26T17:43:54.599536",
     "exception": false,
     "start_time": "2022-09-26T17:43:54.582860",
     "status": "completed"
    },
    "tags": []
   },
   "outputs": [
    {
     "name": "stdout",
     "output_type": "stream",
     "text": [
      "5\n"
     ]
    }
   ],
   "source": [
    "def f(x):\n",
    "    y = abs(x)\n",
    "    return y\n",
    "\n",
    "print(f(-5))"
   ]
  },
  {
   "cell_type": "markdown",
   "id": "acd7c7e4",
   "metadata": {
    "papermill": {
     "duration": 0.006774,
     "end_time": "2022-09-26T17:43:54.613635",
     "exception": false,
     "start_time": "2022-09-26T17:43:54.606861",
     "status": "completed"
    },
    "tags": []
   },
   "source": [
    "# Keep Going\n",
    "\n",
    "Nice job with the code. Next up, you'll learn about *conditionals*, which you'll need to **[write interesting programs](https://www.kaggle.com/colinmorris/booleans-and-conditionals)**. "
   ]
  },
  {
   "cell_type": "markdown",
   "id": "30786186",
   "metadata": {
    "papermill": {
     "duration": 0.006777,
     "end_time": "2022-09-26T17:43:54.627385",
     "exception": false,
     "start_time": "2022-09-26T17:43:54.620608",
     "status": "completed"
    },
    "tags": []
   },
   "source": [
    "---\n",
    "\n",
    "\n",
    "\n",
    "\n",
    "*Have questions or comments? Visit the [course discussion forum](https://www.kaggle.com/learn/python/discussion) to chat with other learners.*"
   ]
  }
 ],
 "metadata": {
  "kernelspec": {
   "display_name": "Python 3",
   "language": "python",
   "name": "python3"
  },
  "language_info": {
   "codemirror_mode": {
    "name": "ipython",
    "version": 3
   },
   "file_extension": ".py",
   "mimetype": "text/x-python",
   "name": "python",
   "nbconvert_exporter": "python",
   "pygments_lexer": "ipython3",
   "version": "3.7.12"
  },
  "papermill": {
   "default_parameters": {},
   "duration": 10.018183,
   "end_time": "2022-09-26T17:43:55.254962",
   "environment_variables": {},
   "exception": null,
   "input_path": "__notebook__.ipynb",
   "output_path": "__notebook__.ipynb",
   "parameters": {},
   "start_time": "2022-09-26T17:43:45.236779",
   "version": "2.3.4"
  }
 },
 "nbformat": 4,
 "nbformat_minor": 5
}
