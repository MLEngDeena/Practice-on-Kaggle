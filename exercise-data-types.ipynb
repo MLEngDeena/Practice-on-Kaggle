{
 "cells": [
  {
   "cell_type": "markdown",
   "id": "05180eb7",
   "metadata": {
    "papermill": {
     "duration": 0.008414,
     "end_time": "2022-09-25T07:56:29.563091",
     "exception": false,
     "start_time": "2022-09-25T07:56:29.554677",
     "status": "completed"
    },
    "tags": []
   },
   "source": [
    "**This notebook is an exercise in the [Intro to Programming](https://www.kaggle.com/learn/intro-to-programming) course.  You can reference the tutorial at [this link](https://www.kaggle.com/alexisbcook/data-types).**\n",
    "\n",
    "---\n"
   ]
  },
  {
   "cell_type": "markdown",
   "id": "23291f2f",
   "metadata": {
    "papermill": {
     "duration": 0.006095,
     "end_time": "2022-09-25T07:56:29.575769",
     "exception": false,
     "start_time": "2022-09-25T07:56:29.569674",
     "status": "completed"
    },
    "tags": []
   },
   "source": [
    "In the tutorial, you learned about four different data types: floats, integers, strings, and booleans.  In this exercise, you'll experiment with them.\n",
    "\n",
    "# Set up the notebook\n",
    "\n",
    "Run the next code cell without changes to set up the notebook."
   ]
  },
  {
   "cell_type": "code",
   "execution_count": 1,
   "id": "5235ff3b",
   "metadata": {
    "execution": {
     "iopub.execute_input": "2022-09-25T07:56:29.590648Z",
     "iopub.status.busy": "2022-09-25T07:56:29.589881Z",
     "iopub.status.idle": "2022-09-25T07:56:29.637170Z",
     "shell.execute_reply": "2022-09-25T07:56:29.635981Z"
    },
    "papermill": {
     "duration": 0.057784,
     "end_time": "2022-09-25T07:56:29.639812",
     "exception": false,
     "start_time": "2022-09-25T07:56:29.582028",
     "status": "completed"
    },
    "tags": []
   },
   "outputs": [
    {
     "name": "stdout",
     "output_type": "stream",
     "text": [
      "Setup complete.\n"
     ]
    }
   ],
   "source": [
    "# Set up the exercise\n",
    "from learntools.core import binder\n",
    "binder.bind(globals())\n",
    "from learntools.intro_to_programming.ex3 import *\n",
    "print('Setup complete.')"
   ]
  },
  {
   "cell_type": "markdown",
   "id": "bfe0c2ca",
   "metadata": {
    "papermill": {
     "duration": 0.006296,
     "end_time": "2022-09-25T07:56:29.652738",
     "exception": false,
     "start_time": "2022-09-25T07:56:29.646442",
     "status": "completed"
    },
    "tags": []
   },
   "source": [
    "# Question 1\n",
    "\n",
    "You have seen how to convert a float to an integer with the `int` function.  Try this out yourself by running the code cell below."
   ]
  },
  {
   "cell_type": "code",
   "execution_count": 2,
   "id": "a913372c",
   "metadata": {
    "execution": {
     "iopub.execute_input": "2022-09-25T07:56:29.667474Z",
     "iopub.status.busy": "2022-09-25T07:56:29.666775Z",
     "iopub.status.idle": "2022-09-25T07:56:29.672599Z",
     "shell.execute_reply": "2022-09-25T07:56:29.671523Z"
    },
    "papermill": {
     "duration": 0.015958,
     "end_time": "2022-09-25T07:56:29.674894",
     "exception": false,
     "start_time": "2022-09-25T07:56:29.658936",
     "status": "completed"
    },
    "tags": []
   },
   "outputs": [
    {
     "name": "stdout",
     "output_type": "stream",
     "text": [
      "1.0\n",
      "<class 'float'>\n",
      "1\n",
      "<class 'int'>\n"
     ]
    }
   ],
   "source": [
    "# Define a float\n",
    "y = 1.\n",
    "print(y)\n",
    "print(type(y))\n",
    "\n",
    "# Convert float to integer with the int function\n",
    "z = int(y)\n",
    "print(z)\n",
    "print(type(z))"
   ]
  },
  {
   "cell_type": "markdown",
   "id": "880bbde1",
   "metadata": {
    "papermill": {
     "duration": 0.005984,
     "end_time": "2022-09-25T07:56:29.687279",
     "exception": false,
     "start_time": "2022-09-25T07:56:29.681295",
     "status": "completed"
    },
    "tags": []
   },
   "source": [
    "In this case, the float you are using has no numbers after the decimal.  \n",
    "- But what happens when you try to convert a float with a fractional part to an integer?  \n",
    "- How does the outcome of the `int` function change for positive and negative numbers?\n",
    "\n",
    "Use the next code cell to investigate and answer these questions.  Feel free to add or remove any lines of code -- it is your workspace!"
   ]
  },
  {
   "cell_type": "code",
   "execution_count": 3,
   "id": "b46f7781",
   "metadata": {
    "execution": {
     "iopub.execute_input": "2022-09-25T07:56:29.701756Z",
     "iopub.status.busy": "2022-09-25T07:56:29.700889Z",
     "iopub.status.idle": "2022-09-25T07:56:29.706401Z",
     "shell.execute_reply": "2022-09-25T07:56:29.705439Z"
    },
    "papermill": {
     "duration": 0.015676,
     "end_time": "2022-09-25T07:56:29.709263",
     "exception": false,
     "start_time": "2022-09-25T07:56:29.693587",
     "status": "completed"
    },
    "tags": []
   },
   "outputs": [
    {
     "name": "stdout",
     "output_type": "stream",
     "text": [
      "1\n",
      "1\n",
      "-3\n",
      "-2\n"
     ]
    }
   ],
   "source": [
    "# Uncomment and run this code to get started!\n",
    "print(int(1.2321))\n",
    "print(int(1.747))\n",
    "print(int(-3.94535))\n",
    "print(int(-2.19774))"
   ]
  },
  {
   "cell_type": "markdown",
   "id": "e5ac675b",
   "metadata": {
    "papermill": {
     "duration": 0.006256,
     "end_time": "2022-09-25T07:56:29.722262",
     "exception": false,
     "start_time": "2022-09-25T07:56:29.716006",
     "status": "completed"
    },
    "tags": []
   },
   "source": [
    "Once you have an answer, run the code cell below to see the solution.  Viewing the solution will give you credit for answering the problem."
   ]
  },
  {
   "cell_type": "code",
   "execution_count": 4,
   "id": "56a78401",
   "metadata": {
    "execution": {
     "iopub.execute_input": "2022-09-25T07:56:29.737194Z",
     "iopub.status.busy": "2022-09-25T07:56:29.736734Z",
     "iopub.status.idle": "2022-09-25T07:56:29.746686Z",
     "shell.execute_reply": "2022-09-25T07:56:29.745802Z"
    },
    "papermill": {
     "duration": 0.020328,
     "end_time": "2022-09-25T07:56:29.749011",
     "exception": false,
     "start_time": "2022-09-25T07:56:29.728683",
     "status": "completed"
    },
    "tags": []
   },
   "outputs": [
    {
     "data": {
      "application/javascript": [
       "parent.postMessage({\"jupyterEvent\": \"custom.exercise_interaction\", \"data\": {\"outcomeType\": 1, \"valueTowardsCompletion\": 0.2, \"interactionType\": 1, \"questionType\": 4, \"questionId\": \"1_FloatToInt\", \"learnToolsVersion\": \"0.3.4\", \"failureMessage\": \"\", \"exceptionClass\": \"\", \"trace\": \"\"}}, \"*\")"
      ],
      "text/plain": [
       "<IPython.core.display.Javascript object>"
      ]
     },
     "metadata": {},
     "output_type": "display_data"
    },
    {
     "data": {
      "text/markdown": [
       "<span style=\"color:#33cc33\">Correct:</span> \n",
       "\n",
       "Negative floats are always rounded UP to the closest integer (for instance, both -1.1 and -1.9 are rounded up to -1). Positive floats are always rounded DOWN to the closest integer (for instance, 2.1 and 2.9 are rounded down to 2)."
      ],
      "text/plain": [
       "Correct: \n",
       "\n",
       "Negative floats are always rounded UP to the closest integer (for instance, both -1.1 and -1.9 are rounded up to -1). Positive floats are always rounded DOWN to the closest integer (for instance, 2.1 and 2.9 are rounded down to 2)."
      ]
     },
     "metadata": {},
     "output_type": "display_data"
    }
   ],
   "source": [
    "# Check your answer (Run this code cell to receive credit!)\n",
    "q1.check()"
   ]
  },
  {
   "cell_type": "markdown",
   "id": "61fcd3a6",
   "metadata": {
    "papermill": {
     "duration": 0.006828,
     "end_time": "2022-09-25T07:56:29.762836",
     "exception": false,
     "start_time": "2022-09-25T07:56:29.756008",
     "status": "completed"
    },
    "tags": []
   },
   "source": [
    "# Question 2\n",
    "\n",
    "In the tutorial, you learned about booleans (which can take a value of `True` or `False`), in addition to integers, floats, and strings.  For this question, your goal is to determine what happens when you multiply a boolean by any of these data types.  Specifically, \n",
    "- What happens when you multiply an integer or float by `True`?  What happens when you multiply them by `False`?  How does the answer change if the numbers are positive or negative?\n",
    "- What happens when you multiply a string by `True`?  By `False`?\n",
    "\n",
    "Use the next code cell for your investigation. "
   ]
  },
  {
   "cell_type": "code",
   "execution_count": 5,
   "id": "67b665b7",
   "metadata": {
    "execution": {
     "iopub.execute_input": "2022-09-25T07:56:29.778551Z",
     "iopub.status.busy": "2022-09-25T07:56:29.778180Z",
     "iopub.status.idle": "2022-09-25T07:56:29.784137Z",
     "shell.execute_reply": "2022-09-25T07:56:29.782960Z"
    },
    "papermill": {
     "duration": 0.017818,
     "end_time": "2022-09-25T07:56:29.787580",
     "exception": false,
     "start_time": "2022-09-25T07:56:29.769762",
     "status": "completed"
    },
    "tags": []
   },
   "outputs": [
    {
     "name": "stdout",
     "output_type": "stream",
     "text": [
      "3\n",
      "-3.1\n",
      "<class 'str'>\n",
      "0\n"
     ]
    }
   ],
   "source": [
    "# Uncomment and run this code to get started!\n",
    "print(3 * True)\n",
    "print(-3.1 * True)\n",
    "print(type(\"abc\" * False))\n",
    "print(len(\"abc\" * False))"
   ]
  },
  {
   "cell_type": "markdown",
   "id": "6d9d342d",
   "metadata": {
    "papermill": {
     "duration": 0.006484,
     "end_time": "2022-09-25T07:56:29.803889",
     "exception": false,
     "start_time": "2022-09-25T07:56:29.797405",
     "status": "completed"
    },
    "tags": []
   },
   "source": [
    "Once you have an answer, run the code cell below to see the solution.  Viewing the solution will give you credit for answering the problem."
   ]
  },
  {
   "cell_type": "code",
   "execution_count": 6,
   "id": "a7468acc",
   "metadata": {
    "execution": {
     "iopub.execute_input": "2022-09-25T07:56:29.818773Z",
     "iopub.status.busy": "2022-09-25T07:56:29.818390Z",
     "iopub.status.idle": "2022-09-25T07:56:29.827252Z",
     "shell.execute_reply": "2022-09-25T07:56:29.826144Z"
    },
    "papermill": {
     "duration": 0.018854,
     "end_time": "2022-09-25T07:56:29.829457",
     "exception": false,
     "start_time": "2022-09-25T07:56:29.810603",
     "status": "completed"
    },
    "tags": []
   },
   "outputs": [
    {
     "data": {
      "application/javascript": [
       "parent.postMessage({\"jupyterEvent\": \"custom.exercise_interaction\", \"data\": {\"outcomeType\": 1, \"valueTowardsCompletion\": 0.2, \"interactionType\": 1, \"questionType\": 4, \"questionId\": \"2_MultiplyBooleans\", \"learnToolsVersion\": \"0.3.4\", \"failureMessage\": \"\", \"exceptionClass\": \"\", \"trace\": \"\"}}, \"*\")"
      ],
      "text/plain": [
       "<IPython.core.display.Javascript object>"
      ]
     },
     "metadata": {},
     "output_type": "display_data"
    },
    {
     "data": {
      "text/markdown": [
       "<span style=\"color:#33cc33\">Correct:</span> \n",
       "\n",
       "When you multiple an integer or float by a boolean with value `True`, it just returns that same integer or float (and is equivalent to multiplying by 1).  If you multiply an integer or float by a boolean with value `False`, it always returns 0.  This is true for both positive and negative numbers.  If you multiply a string by a boolean with value `True`, it just returns that same string.  And if you multiply a string by a boolean with value `False`, it returns an empty string (or a string with length zero)."
      ],
      "text/plain": [
       "Correct: \n",
       "\n",
       "When you multiple an integer or float by a boolean with value `True`, it just returns that same integer or float (and is equivalent to multiplying by 1).  If you multiply an integer or float by a boolean with value `False`, it always returns 0.  This is true for both positive and negative numbers.  If you multiply a string by a boolean with value `True`, it just returns that same string.  And if you multiply a string by a boolean with value `False`, it returns an empty string (or a string with length zero)."
      ]
     },
     "metadata": {},
     "output_type": "display_data"
    }
   ],
   "source": [
    "# Check your answer (Run this code cell to receive credit!)\n",
    "q2.check()"
   ]
  },
  {
   "cell_type": "markdown",
   "id": "17d89fbf",
   "metadata": {
    "papermill": {
     "duration": 0.006778,
     "end_time": "2022-09-25T07:56:29.843394",
     "exception": false,
     "start_time": "2022-09-25T07:56:29.836616",
     "status": "completed"
    },
    "tags": []
   },
   "source": [
    "# Question 3\n",
    "\n",
    "In this question, you will build off your work from the previous exercise to write a function that estimates the value of a house.\n",
    "\n",
    "Use the next code cell to create a function `get_expected_cost` that takes as input three variables:\n",
    "- `beds` - number of bedrooms (data type float)\n",
    "- `baths` - number of bathrooms (data type float)\n",
    "- `has_basement` - whether or not the house has a basement (data type boolean)\n",
    "\n",
    "It should return the expected cost of a house with those characteristics. Assume that:\n",
    "- the expected cost for a house with 0 bedrooms and 0 bathrooms, and no basement is 80000, \n",
    "- each bedroom adds 30000 to the expected cost,\n",
    "- each bathroom adds 10000 to the expected cost, and\n",
    "- a basement adds 40000 to the expected cost.\n",
    "\n",
    "For instance,\n",
    "- a house with 1 bedroom, 1 bathroom, and no basement has an expected cost of 80000 + 30000 + 10000 = 120000.  This value will be calculated with `get_expected_cost(1, 1, False)`.\n",
    "- a house with 2 bedrooms, 1 bathroom, and a basement has an expected cost of 80000 + 2*30000 + 10000 + 40000 = 190000.  This value will be calculated with `get_expected_cost(2, 1, True)`.\n",
    "\n",
    "Remember you can always get a hint by uncommenting `q3.hint()` in the code cell following the next!"
   ]
  },
  {
   "cell_type": "code",
   "execution_count": 7,
   "id": "ea6ac6d9",
   "metadata": {
    "execution": {
     "iopub.execute_input": "2022-09-25T07:56:29.859674Z",
     "iopub.status.busy": "2022-09-25T07:56:29.858788Z",
     "iopub.status.idle": "2022-09-25T07:56:29.868829Z",
     "shell.execute_reply": "2022-09-25T07:56:29.867982Z"
    },
    "papermill": {
     "duration": 0.020696,
     "end_time": "2022-09-25T07:56:29.870995",
     "exception": false,
     "start_time": "2022-09-25T07:56:29.850299",
     "status": "completed"
    },
    "tags": []
   },
   "outputs": [
    {
     "data": {
      "application/javascript": [
       "parent.postMessage({\"jupyterEvent\": \"custom.exercise_interaction\", \"data\": {\"outcomeType\": 1, \"valueTowardsCompletion\": 0.2, \"interactionType\": 1, \"questionType\": 2, \"questionId\": \"3_EstimateHouseValueBool\", \"learnToolsVersion\": \"0.3.4\", \"failureMessage\": \"\", \"exceptionClass\": \"\", \"trace\": \"\"}}, \"*\")"
      ],
      "text/plain": [
       "<IPython.core.display.Javascript object>"
      ]
     },
     "metadata": {},
     "output_type": "display_data"
    },
    {
     "data": {
      "text/markdown": [
       "<span style=\"color:#33cc33\">Correct</span>"
      ],
      "text/plain": [
       "Correct"
      ]
     },
     "metadata": {},
     "output_type": "display_data"
    }
   ],
   "source": [
    "# TODO: Complete the function\n",
    "def get_expected_cost(beds, baths, has_basement):\n",
    "    \n",
    "    value = 80000 + beds*30000 + baths*10000 + has_basement*40000\n",
    "    return value\n",
    "\n",
    "# Check your answer \n",
    "q3.check()"
   ]
  },
  {
   "cell_type": "code",
   "execution_count": 8,
   "id": "f4a5e288",
   "metadata": {
    "execution": {
     "iopub.execute_input": "2022-09-25T07:56:29.888103Z",
     "iopub.status.busy": "2022-09-25T07:56:29.887676Z",
     "iopub.status.idle": "2022-09-25T07:56:29.900581Z",
     "shell.execute_reply": "2022-09-25T07:56:29.899750Z"
    },
    "papermill": {
     "duration": 0.024221,
     "end_time": "2022-09-25T07:56:29.902719",
     "exception": false,
     "start_time": "2022-09-25T07:56:29.878498",
     "status": "completed"
    },
    "tags": []
   },
   "outputs": [
    {
     "data": {
      "application/javascript": [
       "parent.postMessage({\"jupyterEvent\": \"custom.exercise_interaction\", \"data\": {\"interactionType\": 2, \"questionType\": 2, \"questionId\": \"3_EstimateHouseValueBool\", \"learnToolsVersion\": \"0.3.4\", \"valueTowardsCompletion\": 0.0, \"failureMessage\": \"\", \"exceptionClass\": \"\", \"trace\": \"\", \"outcomeType\": 4}}, \"*\")"
      ],
      "text/plain": [
       "<IPython.core.display.Javascript object>"
      ]
     },
     "metadata": {},
     "output_type": "display_data"
    },
    {
     "data": {
      "text/markdown": [
       "<span style=\"color:#3366cc\">Hint:</span> The variable `has_basement` is either `True` or `False`.  What happens when you multiply it by 40000 (the value of a basement)?  Refer to the previous question if you are unsure."
      ],
      "text/plain": [
       "Hint: The variable `has_basement` is either `True` or `False`.  What happens when you multiply it by 40000 (the value of a basement)?  Refer to the previous question if you are unsure."
      ]
     },
     "metadata": {},
     "output_type": "display_data"
    },
    {
     "data": {
      "application/javascript": [
       "parent.postMessage({\"jupyterEvent\": \"custom.exercise_interaction\", \"data\": {\"interactionType\": 3, \"questionType\": 2, \"questionId\": \"3_EstimateHouseValueBool\", \"learnToolsVersion\": \"0.3.4\", \"valueTowardsCompletion\": 0.0, \"failureMessage\": \"\", \"exceptionClass\": \"\", \"trace\": \"\", \"outcomeType\": 4}}, \"*\")"
      ],
      "text/plain": [
       "<IPython.core.display.Javascript object>"
      ]
     },
     "metadata": {},
     "output_type": "display_data"
    },
    {
     "data": {
      "text/markdown": [
       "<span style=\"color:#33cc99\">Solution:</span> \n",
       "```python\n",
       "def get_expected_cost(beds, baths, has_basement):\n",
       "    value = 80000 + 30000 * beds + 10000 * baths + 40000 * has_basement\n",
       "    return value\n",
       "\n",
       "```"
      ],
      "text/plain": [
       "Solution: \n",
       "```python\n",
       "def get_expected_cost(beds, baths, has_basement):\n",
       "    value = 80000 + 30000 * beds + 10000 * baths + 40000 * has_basement\n",
       "    return value\n",
       "\n",
       "```"
      ]
     },
     "metadata": {},
     "output_type": "display_data"
    }
   ],
   "source": [
    "# Uncomment to see a hint\n",
    "q3.hint()\n",
    "\n",
    "# Uncomment to view the solution\n",
    "q3.solution()"
   ]
  },
  {
   "cell_type": "markdown",
   "id": "861d46f7",
   "metadata": {
    "papermill": {
     "duration": 0.007525,
     "end_time": "2022-09-25T07:56:29.918131",
     "exception": false,
     "start_time": "2022-09-25T07:56:29.910606",
     "status": "completed"
    },
    "tags": []
   },
   "source": [
    "# Question 4\n",
    "\n",
    "We'll continue our study of boolean arithmetic.  For this question, your task is to provide a description of what happpens when you add booleans. \n",
    "\n",
    "Use the next code cell for your investigation.  Feel free to add or remove any lines of code - use it as your workspace!"
   ]
  },
  {
   "cell_type": "code",
   "execution_count": 9,
   "id": "3155408c",
   "metadata": {
    "execution": {
     "iopub.execute_input": "2022-09-25T07:56:29.935231Z",
     "iopub.status.busy": "2022-09-25T07:56:29.934587Z",
     "iopub.status.idle": "2022-09-25T07:56:29.940029Z",
     "shell.execute_reply": "2022-09-25T07:56:29.939251Z"
    },
    "papermill": {
     "duration": 0.017252,
     "end_time": "2022-09-25T07:56:29.943014",
     "exception": false,
     "start_time": "2022-09-25T07:56:29.925762",
     "status": "completed"
    },
    "tags": []
   },
   "outputs": [
    {
     "name": "stdout",
     "output_type": "stream",
     "text": [
      "0\n",
      "1\n",
      "1\n",
      "2\n",
      "3\n"
     ]
    }
   ],
   "source": [
    "print(False + False)\n",
    "print(True + False)\n",
    "print(False + True)\n",
    "print(True + True)\n",
    "print(False + True + True + True)"
   ]
  },
  {
   "cell_type": "markdown",
   "id": "c0418d2f",
   "metadata": {
    "papermill": {
     "duration": 0.007518,
     "end_time": "2022-09-25T07:56:29.959185",
     "exception": false,
     "start_time": "2022-09-25T07:56:29.951667",
     "status": "completed"
    },
    "tags": []
   },
   "source": [
    "Once you have an answer, run the code cell below to see the solution.  Viewing the solution will give you credit for answering the problem."
   ]
  },
  {
   "cell_type": "code",
   "execution_count": 10,
   "id": "15583545",
   "metadata": {
    "execution": {
     "iopub.execute_input": "2022-09-25T07:56:29.976622Z",
     "iopub.status.busy": "2022-09-25T07:56:29.975980Z",
     "iopub.status.idle": "2022-09-25T07:56:29.983501Z",
     "shell.execute_reply": "2022-09-25T07:56:29.982526Z"
    },
    "papermill": {
     "duration": 0.018791,
     "end_time": "2022-09-25T07:56:29.985578",
     "exception": false,
     "start_time": "2022-09-25T07:56:29.966787",
     "status": "completed"
    },
    "tags": []
   },
   "outputs": [
    {
     "data": {
      "application/javascript": [
       "parent.postMessage({\"jupyterEvent\": \"custom.exercise_interaction\", \"data\": {\"outcomeType\": 1, \"valueTowardsCompletion\": 0.2, \"interactionType\": 1, \"questionType\": 4, \"questionId\": \"4_AddingBooleans\", \"learnToolsVersion\": \"0.3.4\", \"failureMessage\": \"\", \"exceptionClass\": \"\", \"trace\": \"\"}}, \"*\")"
      ],
      "text/plain": [
       "<IPython.core.display.Javascript object>"
      ]
     },
     "metadata": {},
     "output_type": "display_data"
    },
    {
     "data": {
      "text/markdown": [
       "<span style=\"color:#33cc33\">Correct:</span> \n",
       "\n",
       "When you add booleans, adding `False` is equivalent to adding 0, and adding `True` is equivalent to adding 1."
      ],
      "text/plain": [
       "Correct: \n",
       "\n",
       "When you add booleans, adding `False` is equivalent to adding 0, and adding `True` is equivalent to adding 1."
      ]
     },
     "metadata": {},
     "output_type": "display_data"
    }
   ],
   "source": [
    "# Check your answer (Run this code cell to receive credit!)\n",
    "q4.check()"
   ]
  },
  {
   "cell_type": "markdown",
   "id": "f4dcdb65",
   "metadata": {
    "papermill": {
     "duration": 0.007816,
     "end_time": "2022-09-25T07:56:30.001430",
     "exception": false,
     "start_time": "2022-09-25T07:56:29.993614",
     "status": "completed"
    },
    "tags": []
   },
   "source": [
    "# 🌶️ Question 5\n",
    "\n",
    "You own an online shop where you sell rings with custom engravings.  You offer both gold plated and solid gold rings.\n",
    "- Gold plated rings have a base cost of \\\\$50, and you charge \\\\$7 per engraved unit.  \n",
    "- Solid gold rings have a base cost of \\\\$100, and you charge \\\\$10 per engraved unit.\n",
    "- Spaces and punctuation are counted as engraved units.\n",
    "\n",
    "Write a function `cost_of_project()` that takes two arguments:\n",
    "- `engraving` - a Python string with the text of the engraving\n",
    "- `solid_gold` - a Boolean that indicates whether the ring is solid gold\n",
    "\n",
    "It should return the cost of the project.  This question should be fairly challenging, and you may need a hint."
   ]
  },
  {
   "cell_type": "code",
   "execution_count": 11,
   "id": "41437ebf",
   "metadata": {
    "execution": {
     "iopub.execute_input": "2022-09-25T07:56:30.019835Z",
     "iopub.status.busy": "2022-09-25T07:56:30.019198Z",
     "iopub.status.idle": "2022-09-25T07:56:30.028645Z",
     "shell.execute_reply": "2022-09-25T07:56:30.027524Z"
    },
    "papermill": {
     "duration": 0.020966,
     "end_time": "2022-09-25T07:56:30.030705",
     "exception": false,
     "start_time": "2022-09-25T07:56:30.009739",
     "status": "completed"
    },
    "tags": []
   },
   "outputs": [
    {
     "data": {
      "application/javascript": [
       "parent.postMessage({\"jupyterEvent\": \"custom.exercise_interaction\", \"data\": {\"outcomeType\": 1, \"valueTowardsCompletion\": 0.2, \"interactionType\": 1, \"questionType\": 2, \"questionId\": \"5_CustomEngravings\", \"learnToolsVersion\": \"0.3.4\", \"failureMessage\": \"\", \"exceptionClass\": \"\", \"trace\": \"\"}}, \"*\")"
      ],
      "text/plain": [
       "<IPython.core.display.Javascript object>"
      ]
     },
     "metadata": {},
     "output_type": "display_data"
    },
    {
     "data": {
      "text/markdown": [
       "<span style=\"color:#33cc33\">Correct</span>"
      ],
      "text/plain": [
       "Correct"
      ]
     },
     "metadata": {},
     "output_type": "display_data"
    }
   ],
   "source": [
    "def cost_of_project(engraving, solid_gold):\n",
    "    if(solid_gold):\n",
    "        cost = 100 + 10*len(engraving)\n",
    "    else:\n",
    "         cost = 50 + 7*len(engraving)\n",
    "    return cost\n",
    "\n",
    "# Check your answer\n",
    "q5.check()"
   ]
  },
  {
   "cell_type": "code",
   "execution_count": 12,
   "id": "12009310",
   "metadata": {
    "execution": {
     "iopub.execute_input": "2022-09-25T07:56:30.049039Z",
     "iopub.status.busy": "2022-09-25T07:56:30.048434Z",
     "iopub.status.idle": "2022-09-25T07:56:30.061076Z",
     "shell.execute_reply": "2022-09-25T07:56:30.060242Z"
    },
    "papermill": {
     "duration": 0.024196,
     "end_time": "2022-09-25T07:56:30.063110",
     "exception": false,
     "start_time": "2022-09-25T07:56:30.038914",
     "status": "completed"
    },
    "tags": []
   },
   "outputs": [
    {
     "data": {
      "application/javascript": [
       "parent.postMessage({\"jupyterEvent\": \"custom.exercise_interaction\", \"data\": {\"interactionType\": 2, \"questionType\": 2, \"questionId\": \"5_CustomEngravings\", \"learnToolsVersion\": \"0.3.4\", \"valueTowardsCompletion\": 0.0, \"failureMessage\": \"\", \"exceptionClass\": \"\", \"trace\": \"\", \"outcomeType\": 4}}, \"*\")"
      ],
      "text/plain": [
       "<IPython.core.display.Javascript object>"
      ]
     },
     "metadata": {},
     "output_type": "display_data"
    },
    {
     "data": {
      "text/markdown": [
       "<span style=\"color:#3366cc\">Hint:</span> There are two options - either the project uses solid gold or does not.  With this in mind, you can structure your solution like this: `cost = solid_gold * ____ + (not_solid_gold) * ____`.  You need to figure out how to fill in the blanks. Also, remember that:\n",
       "- If `solid_gold = True`, then `(not solid_gold) = False`, and if `solid_gold = False`, then `(not solid_gold) = True`.\n",
       "- Multiplying an integer by `True` is equivalent to multiplying it by 1, and multiplying an integer by `False` is equivalent to multiplying it by 0."
      ],
      "text/plain": [
       "Hint: There are two options - either the project uses solid gold or does not.  With this in mind, you can structure your solution like this: `cost = solid_gold * ____ + (not_solid_gold) * ____`.  You need to figure out how to fill in the blanks. Also, remember that:\n",
       "- If `solid_gold = True`, then `(not solid_gold) = False`, and if `solid_gold = False`, then `(not solid_gold) = True`.\n",
       "- Multiplying an integer by `True` is equivalent to multiplying it by 1, and multiplying an integer by `False` is equivalent to multiplying it by 0."
      ]
     },
     "metadata": {},
     "output_type": "display_data"
    },
    {
     "data": {
      "application/javascript": [
       "parent.postMessage({\"jupyterEvent\": \"custom.exercise_interaction\", \"data\": {\"interactionType\": 3, \"questionType\": 2, \"questionId\": \"5_CustomEngravings\", \"learnToolsVersion\": \"0.3.4\", \"valueTowardsCompletion\": 0.0, \"failureMessage\": \"\", \"exceptionClass\": \"\", \"trace\": \"\", \"outcomeType\": 4}}, \"*\")"
      ],
      "text/plain": [
       "<IPython.core.display.Javascript object>"
      ]
     },
     "metadata": {},
     "output_type": "display_data"
    },
    {
     "data": {
      "text/markdown": [
       "<span style=\"color:#33cc99\">Solution:</span> \n",
       "```python\n",
       "def cost_of_project(engraving, solid_gold):\n",
       "    cost = solid_gold * (100 + 10 * len(engraving)) + (not solid_gold) * (50 + 7 * len(engraving))\n",
       "    return cost\n",
       "\n",
       "```"
      ],
      "text/plain": [
       "Solution: \n",
       "```python\n",
       "def cost_of_project(engraving, solid_gold):\n",
       "    cost = solid_gold * (100 + 10 * len(engraving)) + (not solid_gold) * (50 + 7 * len(engraving))\n",
       "    return cost\n",
       "\n",
       "```"
      ]
     },
     "metadata": {},
     "output_type": "display_data"
    }
   ],
   "source": [
    "# Uncomment to see a hint\n",
    "q5.hint()\n",
    "\n",
    "# Uncomment to view the solution\n",
    "q5.solution()"
   ]
  },
  {
   "cell_type": "markdown",
   "id": "4cd3f599",
   "metadata": {
    "papermill": {
     "duration": 0.008446,
     "end_time": "2022-09-25T07:56:30.080218",
     "exception": false,
     "start_time": "2022-09-25T07:56:30.071772",
     "status": "completed"
    },
    "tags": []
   },
   "source": [
    "Run the next code cell to calculate the cost of engraving `Charlie+Denver` on a solid gold ring."
   ]
  },
  {
   "cell_type": "code",
   "execution_count": 13,
   "id": "a1f79e45",
   "metadata": {
    "execution": {
     "iopub.execute_input": "2022-09-25T07:56:30.099884Z",
     "iopub.status.busy": "2022-09-25T07:56:30.099223Z",
     "iopub.status.idle": "2022-09-25T07:56:30.105388Z",
     "shell.execute_reply": "2022-09-25T07:56:30.103902Z"
    },
    "papermill": {
     "duration": 0.018923,
     "end_time": "2022-09-25T07:56:30.107869",
     "exception": false,
     "start_time": "2022-09-25T07:56:30.088946",
     "status": "completed"
    },
    "tags": []
   },
   "outputs": [
    {
     "name": "stdout",
     "output_type": "stream",
     "text": [
      "240\n"
     ]
    }
   ],
   "source": [
    "project_one = cost_of_project(\"Charlie+Denver\", True)\n",
    "print(project_one)"
   ]
  },
  {
   "cell_type": "markdown",
   "id": "b467caa1",
   "metadata": {
    "papermill": {
     "duration": 0.008696,
     "end_time": "2022-09-25T07:56:30.125510",
     "exception": false,
     "start_time": "2022-09-25T07:56:30.116814",
     "status": "completed"
    },
    "tags": []
   },
   "source": [
    "Use the next code cell to calculate the cost of engraving `08/10/2000` on a gold plated ring."
   ]
  },
  {
   "cell_type": "code",
   "execution_count": 14,
   "id": "7e66bf33",
   "metadata": {
    "execution": {
     "iopub.execute_input": "2022-09-25T07:56:30.145099Z",
     "iopub.status.busy": "2022-09-25T07:56:30.144671Z",
     "iopub.status.idle": "2022-09-25T07:56:30.150226Z",
     "shell.execute_reply": "2022-09-25T07:56:30.149136Z"
    },
    "papermill": {
     "duration": 0.018422,
     "end_time": "2022-09-25T07:56:30.152820",
     "exception": false,
     "start_time": "2022-09-25T07:56:30.134398",
     "status": "completed"
    },
    "tags": []
   },
   "outputs": [
    {
     "name": "stdout",
     "output_type": "stream",
     "text": [
      "120\n"
     ]
    }
   ],
   "source": [
    "project_two = cost_of_project(\"08/10/2000\", False)\n",
    "print(project_two)"
   ]
  },
  {
   "cell_type": "markdown",
   "id": "d1f916c6",
   "metadata": {
    "papermill": {
     "duration": 0.008712,
     "end_time": "2022-09-25T07:56:30.170875",
     "exception": false,
     "start_time": "2022-09-25T07:56:30.162163",
     "status": "completed"
    },
    "tags": []
   },
   "source": [
    "# Keep going\n",
    "\n",
    "Continue to the next lesson to **[learn about conditions and conditional statements](https://www.kaggle.com/alexisbcook/conditions-and-conditional-statements)**."
   ]
  },
  {
   "cell_type": "markdown",
   "id": "533f262c",
   "metadata": {
    "papermill": {
     "duration": 0.008805,
     "end_time": "2022-09-25T07:56:30.188645",
     "exception": false,
     "start_time": "2022-09-25T07:56:30.179840",
     "status": "completed"
    },
    "tags": []
   },
   "source": [
    "---\n",
    "\n",
    "\n",
    "\n",
    "\n",
    "*Have questions or comments? Visit the [course discussion forum](https://www.kaggle.com/learn/intro-to-programming/discussion) to chat with other learners.*"
   ]
  }
 ],
 "metadata": {
  "kernelspec": {
   "display_name": "Python 3",
   "language": "python",
   "name": "python3"
  },
  "language_info": {
   "codemirror_mode": {
    "name": "ipython",
    "version": 3
   },
   "file_extension": ".py",
   "mimetype": "text/x-python",
   "name": "python",
   "nbconvert_exporter": "python",
   "pygments_lexer": "ipython3",
   "version": "3.7.12"
  },
  "papermill": {
   "default_parameters": {},
   "duration": 9.97705,
   "end_time": "2022-09-25T07:56:30.819543",
   "environment_variables": {},
   "exception": null,
   "input_path": "__notebook__.ipynb",
   "output_path": "__notebook__.ipynb",
   "parameters": {},
   "start_time": "2022-09-25T07:56:20.842493",
   "version": "2.3.4"
  }
 },
 "nbformat": 4,
 "nbformat_minor": 5
}
